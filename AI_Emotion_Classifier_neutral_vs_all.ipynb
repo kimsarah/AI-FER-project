{
  "nbformat": 4,
  "nbformat_minor": 0,
  "metadata": {
    "accelerator": "GPU",
    "colab": {
      "name": "AI - Emotion Classifier neutral vs all.ipynb",
      "provenance": [],
      "collapsed_sections": [],
      "toc_visible": true
    },
    "kernelspec": {
      "display_name": "Python 3",
      "name": "python3"
    },
    "language_info": {
      "name": "python"
    }
  },
  "cells": [
    {
      "cell_type": "code",
      "metadata": {
        "colab": {
          "base_uri": "https://localhost:8080/"
        },
        "id": "248wzJk98y-x",
        "outputId": "34f08474-7dde-4915-e4a2-43034f894dbd"
      },
      "source": [
        "from google.colab import drive\n",
        "drive.mount('/content/drive')"
      ],
      "execution_count": 1,
      "outputs": [
        {
          "output_type": "stream",
          "text": [
            "Drive already mounted at /content/drive; to attempt to forcibly remount, call drive.mount(\"/content/drive\", force_remount=True).\n"
          ],
          "name": "stdout"
        }
      ]
    },
    {
      "cell_type": "markdown",
      "metadata": {
        "id": "UNi8ZjuOjbNn"
      },
      "source": [
        "# Imports"
      ]
    },
    {
      "cell_type": "code",
      "metadata": {
        "id": "BuV5r0NzBjOr"
      },
      "source": [
        "# importing libraries\n",
        "\n",
        "import pandas as pd\n",
        "import numpy as np\n",
        "import cv2 as cv #opencv (maybe we will use it, maybe not)\n",
        "import matplotlib.pyplot as plt\n",
        "import seaborn as sns\n",
        "from sklearn.metrics import confusion_matrix, classification_report\n",
        "from keras.models import Sequential\n",
        "from keras.layers import Conv2D, Dense, Flatten, Dropout, MaxPooling2D, GlobalMaxPooling2D, BatchNormalization\n",
        "from keras.layers.experimental.preprocessing import Rescaling, RandomFlip, RandomRotation\n",
        "from keras.optimizers import Adam\n",
        "from sklearn.model_selection import train_test_split #splitting training and test data\n",
        "from sklearn.preprocessing import OneHotEncoder\n",
        "from sklearn.utils.class_weight import compute_sample_weight\n",
        "from keras.callbacks import ModelCheckpoint, EarlyStopping, ReduceLROnPlateau\n",
        "import tensorflow as tf\n",
        "from tensorflow.keras.applications import ResNet50, MobileNetV2\n",
        "from tensorflow.keras.applications.resnet import preprocess_input\n",
        "from tensorflow.keras.preprocessing.image import ImageDataGenerator\n",
        "\n",
        "# set seed for reproducibility\n",
        "SEED = 2021\n",
        "\n",
        "from numpy.random import seed\n",
        "seed(SEED)\n",
        "\n",
        "from tensorflow.random import set_seed\n",
        "set_seed(SEED)\n",
        "\n",
        "sns.set_style({'font.family':'serif', 'font.serif':'Times New Roman'})"
      ],
      "execution_count": 2,
      "outputs": []
    },
    {
      "cell_type": "markdown",
      "metadata": {
        "id": "pVuUiBcPrV5n"
      },
      "source": [
        "Custom functions"
      ]
    },
    {
      "cell_type": "code",
      "metadata": {
        "id": "ssuFK8zYrX1j"
      },
      "source": [
        "def evaluate_model(X_test, y_test, model, only_two_emotions=False, emotion_name=None): \n",
        "    y_pred = model.predict(X_test)\n",
        "    res = [1 if pred>0.5 else 0 for pred in y_pred]\n",
        "    y_pred = res\n",
        "    print(y_pred)\n",
        "    cm = confusion_matrix(y_test, y_pred, normalize='true')\n",
        "    fig,ax = plt.subplots(nrows=1,ncols=1,figsize=(6, 4), dpi = 200\n",
        "                          )\n",
        "    ax = sns.heatmap(cm, annot=True)\n",
        "    plt.xlabel('Predicted Label')\n",
        "    plt.ylabel('True Label')\n",
        "    labels = ['Angry', 'Fear', 'Happy', 'Sad', 'Surprise', 'Neutral']\n",
        "    \n",
        "    if only_two_emotions:\n",
        "      if (emotion_name != None):\n",
        "        labels = ['Neutral', emotion_name]\n",
        "      else:\n",
        "        labels = ['Emotion', 'Neutral']\n",
        "     \n",
        "    \n",
        "    tick_marks = np.arange(len(labels))\n",
        "    plt.xticks(tick_marks, labels, ha='left', #rotation=45\n",
        "               )\n",
        "    plt.yticks(tick_marks, labels, ha='right')\n",
        "    \n",
        "    #plt.show()\n",
        "    print('\\n\\n' + classification_report(y_test, y_pred, zero_division=0))\n",
        "\n",
        "\n",
        "def model_training_viz(history):\n",
        "  fig,ax = plt.subplots(nrows=1,ncols=2,figsize=(6, 3), dpi = 200\n",
        "                        )\n",
        "  # accuracy\n",
        "  ax[0].plot(history.history['accuracy'])\n",
        "  ax[0].plot(history.history['val_accuracy'])\n",
        "  ax[0].set_title('Model Accuracy')\n",
        "  ax[0].set_ylabel('Accuracy')\n",
        "  ax[0].set_xlabel('Epoch')\n",
        "  ax[0].legend(['Train', 'Validation'], #loc='upper left'\n",
        "               )\n",
        "\n",
        "  # loss\n",
        "  ax[1].plot(history.history['loss'])\n",
        "  ax[1].plot(history.history['val_loss'])\n",
        "  ax[1].set_title('Model Loss')\n",
        "  ax[1].set_ylabel('Loss')\n",
        "  ax[1].set_xlabel('Epoch')\n",
        "  ax[1].legend(['Train', 'Validation'], #loc='lower left'\n",
        "               )\n",
        "  plt.tight_layout()"
      ],
      "execution_count": 3,
      "outputs": []
    },
    {
      "cell_type": "markdown",
      "metadata": {
        "id": "406oGXGNjgO6"
      },
      "source": [
        "# Load data"
      ]
    },
    {
      "cell_type": "code",
      "metadata": {
        "colab": {
          "base_uri": "https://localhost:8080/"
        },
        "id": "FdcYXM_XmZC2",
        "outputId": "d60835d2-130f-4400-93be-146dd4301b9d"
      },
      "source": [
        "data = pd.read_csv('/content/drive/MyDrive/AI project/fer2013.csv', sep=';')\n",
        "val_train = len(data[data['Usage']=='Training'])\n",
        "val_public = len(data[data['Usage']=='PublicTest'])\n",
        "val_private = len(data[data['Usage']=='PrivateTest'])\n",
        "\n",
        "print('The dataset contains %s images.' %(data.shape[0]))\n",
        "print('Included are:\\n %s values for Training\\n %s values for PublicTest\\n %s values for PrivateTest' %(val_train, val_public, val_private))"
      ],
      "execution_count": 4,
      "outputs": [
        {
          "output_type": "stream",
          "text": [
            "The dataset contains 35887 images.\n",
            "Included are:\n",
            " 28709 values for Training\n",
            " 3589 values for PublicTest\n",
            " 3589 values for PrivateTest\n"
          ],
          "name": "stdout"
        }
      ]
    },
    {
      "cell_type": "code",
      "metadata": {
        "colab": {
          "base_uri": "https://localhost:8080/"
        },
        "id": "kbwDHfeErzF3",
        "outputId": "5c4741cd-de0a-40c2-8c1b-3cdd5c239b26"
      },
      "source": [
        "data.emotion.value_counts()"
      ],
      "execution_count": 5,
      "outputs": [
        {
          "output_type": "execute_result",
          "data": {
            "text/plain": [
              "3    8989\n",
              "6    6198\n",
              "4    6077\n",
              "2    5121\n",
              "0    4953\n",
              "5    4002\n",
              "1     547\n",
              "Name: emotion, dtype: int64"
            ]
          },
          "metadata": {
            "tags": []
          },
          "execution_count": 5
        }
      ]
    },
    {
      "cell_type": "code",
      "metadata": {
        "id": "rdwrd722BW6j"
      },
      "source": [
        "#loading the data (X: features/pixels, Y: labels/emotion class)\n",
        "\n",
        "X = np.load('/content/drive/MyDrive/AI project/X.npy', allow_pickle=True)\n",
        "Y = np.load('/content/drive/MyDrive/AI project/Y.npy', allow_pickle=True)"
      ],
      "execution_count": 6,
      "outputs": []
    },
    {
      "cell_type": "code",
      "metadata": {
        "id": "7Op0QeKOxTnh"
      },
      "source": [
        "# try without class 1\n",
        "import copy\n",
        "Y_bool = copy.copy(Y)\n",
        "Y_bool = Y_bool != 1\n",
        "Y_sub = Y[Y_bool]\n",
        "X_sub = X[Y_bool]\n",
        "\n",
        "Y = Y_sub\n",
        "X = X_sub\n",
        "\n",
        "X = np.asarray(X.tolist())"
      ],
      "execution_count": 7,
      "outputs": []
    },
    {
      "cell_type": "code",
      "metadata": {
        "colab": {
          "base_uri": "https://localhost:8080/"
        },
        "id": "akVfTUS9lEUO",
        "outputId": "c140c32e-684d-4509-f71e-ebb563ff3c07"
      },
      "source": [
        "X"
      ],
      "execution_count": 8,
      "outputs": [
        {
          "output_type": "execute_result",
          "data": {
            "text/plain": [
              "array([[ 70,  80,  82, ..., 106, 109,  82],\n",
              "       [151, 150, 147, ..., 193, 183, 184],\n",
              "       [231, 212, 156, ...,  88, 110, 152],\n",
              "       ...,\n",
              "       [ 17,  17,  16, ..., 154, 133, 113],\n",
              "       [ 30,  28,  28, ...,  35,  30,  28],\n",
              "       [ 19,  13,  14, ..., 189, 199, 201]])"
            ]
          },
          "metadata": {
            "tags": []
          },
          "execution_count": 8
        }
      ]
    },
    {
      "cell_type": "code",
      "metadata": {
        "colab": {
          "base_uri": "https://localhost:8080/"
        },
        "id": "Lyr-hPe_jNlZ",
        "outputId": "c136b648-a244-40b6-e00f-8db9c15eac99"
      },
      "source": [
        "Y"
      ],
      "execution_count": 9,
      "outputs": [
        {
          "output_type": "execute_result",
          "data": {
            "text/plain": [
              "array([0, 0, 2, ..., 0, 3, 2])"
            ]
          },
          "metadata": {
            "tags": []
          },
          "execution_count": 9
        }
      ]
    },
    {
      "cell_type": "code",
      "metadata": {
        "colab": {
          "base_uri": "https://localhost:8080/"
        },
        "id": "NRshygewNbOm",
        "outputId": "35f56c80-e638-40ba-9122-e2b3bd9c55eb"
      },
      "source": [
        "sum(Y==6)"
      ],
      "execution_count": 10,
      "outputs": [
        {
          "output_type": "execute_result",
          "data": {
            "text/plain": [
              "6198"
            ]
          },
          "metadata": {
            "tags": []
          },
          "execution_count": 10
        }
      ]
    },
    {
      "cell_type": "code",
      "metadata": {
        "id": "zIFRlaVxFKoP"
      },
      "source": [
        "#plotting one image\n",
        "\n",
        "#plt.imshow(X[0].reshape(48,48),cmap='gray', vmin=0, vmax=255) #48x48 grayscale"
      ],
      "execution_count": 11,
      "outputs": []
    },
    {
      "cell_type": "markdown",
      "metadata": {
        "id": "KUBJ_Ma3jkGL"
      },
      "source": [
        "## Transform Data"
      ]
    },
    {
      "cell_type": "code",
      "metadata": {
        "colab": {
          "base_uri": "https://localhost:8080/"
        },
        "id": "QbDAyDpZxvy1",
        "outputId": "09e4b70c-b9cd-4ddf-8de7-17d101a6090a"
      },
      "source": [
        "len(X)"
      ],
      "execution_count": 12,
      "outputs": [
        {
          "output_type": "execute_result",
          "data": {
            "text/plain": [
              "35340"
            ]
          },
          "metadata": {
            "tags": []
          },
          "execution_count": 12
        }
      ]
    },
    {
      "cell_type": "code",
      "metadata": {
        "colab": {
          "base_uri": "https://localhost:8080/"
        },
        "id": "zJb6wo1NxxPQ",
        "outputId": "a5dfe14c-fd72-4f2c-c5de-2a4b8c609f46"
      },
      "source": [
        "len(Y)"
      ],
      "execution_count": 13,
      "outputs": [
        {
          "output_type": "execute_result",
          "data": {
            "text/plain": [
              "35340"
            ]
          },
          "metadata": {
            "tags": []
          },
          "execution_count": 13
        }
      ]
    },
    {
      "cell_type": "code",
      "metadata": {
        "id": "RYi66OHnGmOi",
        "colab": {
          "base_uri": "https://localhost:8080/"
        },
        "outputId": "5f35e14b-bd3c-4efa-b00f-83135d80bb9e"
      },
      "source": [
        "# prepare data for binary classification\n",
        "Y_binary = [1 if y==6 else 0 for y in Y]\n",
        "Y = np.array(Y_binary)\n",
        "sum(Y_binary)"
      ],
      "execution_count": 14,
      "outputs": [
        {
          "output_type": "execute_result",
          "data": {
            "text/plain": [
              "6198"
            ]
          },
          "metadata": {
            "tags": []
          },
          "execution_count": 14
        }
      ]
    },
    {
      "cell_type": "code",
      "metadata": {
        "id": "71IKEYwLF6SX"
      },
      "source": [
        "# train test split\n",
        "\n",
        "X = X.reshape(len(X),48,48,1) # data has to be in that format for keras\n",
        "\n",
        "X_train, X_test, y_train, y_test = train_test_split(X, Y, train_size=0.9, random_state=SEED, stratify=Y)"
      ],
      "execution_count": 15,
      "outputs": []
    },
    {
      "cell_type": "code",
      "metadata": {
        "colab": {
          "base_uri": "https://localhost:8080/"
        },
        "id": "mp5rt3SrQwMi",
        "outputId": "c78534c7-d01d-4eb2-eb79-e7e7594a232f"
      },
      "source": [
        "print('Shape X_train: %s, Shape y_train: %s' % (X_train.shape, y_train.shape))\n",
        "print('Shape X_test: %s, Shape y_test: %s' % (X_test.shape, y_test.shape))"
      ],
      "execution_count": 16,
      "outputs": [
        {
          "output_type": "stream",
          "text": [
            "Shape X_train: (31806, 48, 48, 1), Shape y_train: (31806,)\n",
            "Shape X_test: (3534, 48, 48, 1), Shape y_test: (3534,)\n"
          ],
          "name": "stdout"
        }
      ]
    },
    {
      "cell_type": "code",
      "metadata": {
        "id": "8bzo879EvK8t"
      },
      "source": [
        "data_train, data_val, data_train_y, data_val_y = train_test_split(X_train, y_train, train_size=0.8, random_state=SEED, stratify=y_train)\n",
        "\n",
        "data_train = data_train.reshape(len(data_train), 48, 48)\n",
        "data_val = data_val.reshape(len(data_val), 48, 48)\n",
        "\n",
        "X_train_RGB = np.repeat(data_train[..., np.newaxis], 3, -1)\n",
        "X_val_RGB = np.repeat(data_val[..., np.newaxis], 3, -1)\n",
        "\n",
        "train_datagen = ImageDataGenerator(\n",
        "    rotation_range=0.2,\n",
        "    width_shift_range=0.1,  \n",
        "    height_shift_range=0.1,\n",
        "    horizontal_flip=True,\n",
        "    vertical_flip=True,\n",
        "    rescale = 1./255,\n",
        "    )\n",
        "\n",
        "test_datagen = ImageDataGenerator(rescale=1./255)"
      ],
      "execution_count": 17,
      "outputs": []
    },
    {
      "cell_type": "code",
      "metadata": {
        "colab": {
          "base_uri": "https://localhost:8080/"
        },
        "id": "OhKZE9hBN4zj",
        "outputId": "a3bf4d57-b94f-4cf0-c608-1e8ff30c8919"
      },
      "source": [
        "sum(y_train)"
      ],
      "execution_count": 18,
      "outputs": [
        {
          "output_type": "execute_result",
          "data": {
            "text/plain": [
              "5578"
            ]
          },
          "metadata": {
            "tags": []
          },
          "execution_count": 18
        }
      ]
    },
    {
      "cell_type": "code",
      "metadata": {
        "colab": {
          "base_uri": "https://localhost:8080/"
        },
        "id": "ZgdjyO3EN9QR",
        "outputId": "c5c348f8-6d7a-4b1d-ce50-fe5039824b2b"
      },
      "source": [
        "sum(y_test)"
      ],
      "execution_count": 19,
      "outputs": [
        {
          "output_type": "execute_result",
          "data": {
            "text/plain": [
              "620"
            ]
          },
          "metadata": {
            "tags": []
          },
          "execution_count": 19
        }
      ]
    },
    {
      "cell_type": "markdown",
      "metadata": {
        "id": "s4Mbuw6ZkUT1"
      },
      "source": [
        "# Model Training"
      ]
    },
    {
      "cell_type": "markdown",
      "metadata": {
        "id": "b5eHdQvDrd8S"
      },
      "source": [
        "Callbacks and hyperparameter"
      ]
    },
    {
      "cell_type": "code",
      "metadata": {
        "id": "yNT-jvYHw0Lo"
      },
      "source": [
        "# Callbacks for model training\n",
        "model_name = 'bc_model1'\n",
        "save_path = '/content/drive/MyDrive/AI project/models/binary_classification6/'\n",
        "INPUT_SHAPE = X_train[0].shape\n",
        "optimizer = Adam(learning_rate=0.0001)\n",
        "EPOCHS = 50\n",
        "\n",
        "\n",
        "checkpoint = ModelCheckpoint(save_path + \n",
        "                             model_name,\n",
        "                             monitor='val_loss',\n",
        "                             mode='min',\n",
        "                             save_best_only=True,\n",
        "                             #save_weights_only = False,\n",
        "                             verbose=1)\n",
        "earlystopper = EarlyStopping(monitor='val_accuracy',\n",
        "                          min_delta=0,\n",
        "                          patience=10,\n",
        "                          verbose=1,\n",
        "                          restore_best_weights=True\n",
        "                          )\n",
        "reduce_lr = ReduceLROnPlateau(monitor='val_loss',\n",
        "                              factor=0.2,\n",
        "                              patience=10,\n",
        "                              verbose=1,\n",
        "                              min_delta=0.0001)\n",
        "\n",
        "callbacks = [earlystopper, checkpoint, reduce_lr]"
      ],
      "execution_count": 20,
      "outputs": []
    },
    {
      "cell_type": "markdown",
      "metadata": {
        "id": "gGDrEbRtuaNb"
      },
      "source": [
        "### Our Model for differentiating neutral from other expressions without drop out\n",
        "\n",
        "\n",
        "\n"
      ]
    },
    {
      "cell_type": "code",
      "metadata": {
        "colab": {
          "base_uri": "https://localhost:8080/"
        },
        "id": "QIeL6977uVqe",
        "outputId": "d375c92c-bf71-4960-d523-23fb13d4c632"
      },
      "source": [
        "import keras\n",
        "from keras.models import Sequential\n",
        "from keras.layers.core import Flatten, Dense, Dropout\n",
        "from keras.layers.convolutional import Conv2D, MaxPooling2D, ZeroPadding2D\n",
        "\n",
        "import cv2, numpy as np\n",
        "\n",
        "model = Sequential()\n",
        "# Input Layer\n",
        "model.add(Conv2D(160, (3, 3), activation='relu', padding=\"same\", \n",
        "                 input_shape = (48,48,3)))\n",
        "\n",
        "#Block 1\n",
        "model.add(MaxPooling2D(pool_size=(2, 2)))\n",
        "model.add(Conv2D(96, (3, 3), padding=\"same\", activation='relu'))\n",
        "model.add(Conv2D(96, (3, 3), padding=\"same\", activation='relu'))\n",
        "model.add(Conv2D(96, (3, 3), padding=\"same\", activation='relu'))\n",
        "model.add(Dropout(0.1))\n",
        "\n",
        "# Block 2\n",
        "model.add(MaxPooling2D(pool_size=(2, 2)))\n",
        "model.add(Conv2D(224, (3, 3), padding=\"same\", activation='relu'))\n",
        "model.add(Conv2D(160, (3, 3), padding=\"same\", activation='relu'))\n",
        "model.add(Dropout(0.1))\n",
        "\n",
        "# Block 3\n",
        "model.add(MaxPooling2D(pool_size=(2, 2)))\n",
        "model.add(Conv2D(96, (3, 3), padding=\"same\", activation='relu'))\n",
        "model.add(Conv2D(192, (3, 3), padding=\"same\", activation='relu'))\n",
        "model.add(Conv2D(128, (3, 3), padding=\"same\", activation='relu'))\n",
        "model.add(Dropout(0.1))\n",
        "\n",
        "# Block 4\n",
        "model.add(MaxPooling2D(pool_size=(2, 2)))\n",
        "model.add(Conv2D(160, (3, 3), padding=\"same\", activation='relu'))\n",
        "model.add(Conv2D(64, (3, 3), padding=\"same\", activation='relu'))\n",
        "model.add(Conv2D(128, (3, 3), padding=\"same\", activation='relu'))\n",
        "model.add(Dropout(0.1))\n",
        "\n",
        "model.add(MaxPooling2D(pool_size=(2, 2)))\n",
        "model.add(Flatten())\n",
        "\n",
        "# Dense layers\n",
        "model.add(Dense(96, activation='relu'))\n",
        "model.add(Dense(128, activation='relu'))\n",
        "model.add(Dense(128, activation='relu'))\n",
        "\n",
        "model.add(Dense(1 , activation='sigmoid'))\n",
        "\n",
        "print(model.summary())"
      ],
      "execution_count": 21,
      "outputs": [
        {
          "output_type": "stream",
          "text": [
            "Model: \"sequential\"\n",
            "_________________________________________________________________\n",
            "Layer (type)                 Output Shape              Param #   \n",
            "=================================================================\n",
            "conv2d (Conv2D)              (None, 48, 48, 160)       4480      \n",
            "_________________________________________________________________\n",
            "max_pooling2d (MaxPooling2D) (None, 24, 24, 160)       0         \n",
            "_________________________________________________________________\n",
            "conv2d_1 (Conv2D)            (None, 24, 24, 96)        138336    \n",
            "_________________________________________________________________\n",
            "conv2d_2 (Conv2D)            (None, 24, 24, 96)        83040     \n",
            "_________________________________________________________________\n",
            "conv2d_3 (Conv2D)            (None, 24, 24, 96)        83040     \n",
            "_________________________________________________________________\n",
            "dropout (Dropout)            (None, 24, 24, 96)        0         \n",
            "_________________________________________________________________\n",
            "max_pooling2d_1 (MaxPooling2 (None, 12, 12, 96)        0         \n",
            "_________________________________________________________________\n",
            "conv2d_4 (Conv2D)            (None, 12, 12, 224)       193760    \n",
            "_________________________________________________________________\n",
            "conv2d_5 (Conv2D)            (None, 12, 12, 160)       322720    \n",
            "_________________________________________________________________\n",
            "dropout_1 (Dropout)          (None, 12, 12, 160)       0         \n",
            "_________________________________________________________________\n",
            "max_pooling2d_2 (MaxPooling2 (None, 6, 6, 160)         0         \n",
            "_________________________________________________________________\n",
            "conv2d_6 (Conv2D)            (None, 6, 6, 96)          138336    \n",
            "_________________________________________________________________\n",
            "conv2d_7 (Conv2D)            (None, 6, 6, 192)         166080    \n",
            "_________________________________________________________________\n",
            "conv2d_8 (Conv2D)            (None, 6, 6, 128)         221312    \n",
            "_________________________________________________________________\n",
            "dropout_2 (Dropout)          (None, 6, 6, 128)         0         \n",
            "_________________________________________________________________\n",
            "max_pooling2d_3 (MaxPooling2 (None, 3, 3, 128)         0         \n",
            "_________________________________________________________________\n",
            "conv2d_9 (Conv2D)            (None, 3, 3, 160)         184480    \n",
            "_________________________________________________________________\n",
            "conv2d_10 (Conv2D)           (None, 3, 3, 64)          92224     \n",
            "_________________________________________________________________\n",
            "conv2d_11 (Conv2D)           (None, 3, 3, 128)         73856     \n",
            "_________________________________________________________________\n",
            "dropout_3 (Dropout)          (None, 3, 3, 128)         0         \n",
            "_________________________________________________________________\n",
            "max_pooling2d_4 (MaxPooling2 (None, 1, 1, 128)         0         \n",
            "_________________________________________________________________\n",
            "flatten (Flatten)            (None, 128)               0         \n",
            "_________________________________________________________________\n",
            "dense (Dense)                (None, 96)                12384     \n",
            "_________________________________________________________________\n",
            "dense_1 (Dense)              (None, 128)               12416     \n",
            "_________________________________________________________________\n",
            "dense_2 (Dense)              (None, 128)               16512     \n",
            "_________________________________________________________________\n",
            "dense_3 (Dense)              (None, 1)                 129       \n",
            "=================================================================\n",
            "Total params: 1,743,105\n",
            "Trainable params: 1,743,105\n",
            "Non-trainable params: 0\n",
            "_________________________________________________________________\n",
            "None\n"
          ],
          "name": "stdout"
        }
      ]
    },
    {
      "cell_type": "code",
      "metadata": {
        "id": "GiImaUHavPxK",
        "colab": {
          "base_uri": "https://localhost:8080/"
        },
        "outputId": "73cdd3e0-5331-4914-c790-aae72e7f93f5"
      },
      "source": [
        "# choosing optimizer and compiling\n",
        "model.compile(loss='binary_crossentropy', optimizer=optimizer, \n",
        "              metrics = ['accuracy'])\n",
        "\n",
        "BATCH_SIZE = 32\n",
        "# model training\n",
        "model_history = model.fit(train_datagen.flow(X_train_RGB, data_train_y, batch_size=BATCH_SIZE),\n",
        "                          steps_per_epoch=len(X_train_RGB)//BATCH_SIZE, \n",
        "                          epochs=EPOCHS, verbose=1, callbacks=callbacks,\n",
        "                          validation_data=test_datagen.flow(\n",
        "                              X_val_RGB, data_val_y),\n",
        "                          validation_steps=len(X_val_RGB)//BATCH_SIZE\n",
        "                          )"
      ],
      "execution_count": 22,
      "outputs": [
        {
          "output_type": "stream",
          "text": [
            "Epoch 1/50\n",
            "795/795 [==============================] - 45s 31ms/step - loss: 0.4910 - accuracy: 0.8186 - val_loss: 0.4636 - val_accuracy: 0.8247\n",
            "\n",
            "Epoch 00001: val_loss improved from inf to 0.46363, saving model to /content/drive/MyDrive/AI project/models/binary_classification5/bc_model1\n",
            "INFO:tensorflow:Assets written to: /content/drive/MyDrive/AI project/models/binary_classification5/bc_model1/assets\n",
            "Epoch 2/50\n",
            "795/795 [==============================] - 25s 31ms/step - loss: 0.4695 - accuracy: 0.8236 - val_loss: 0.4655 - val_accuracy: 0.8251\n",
            "\n",
            "Epoch 00002: val_loss did not improve from 0.46363\n",
            "Epoch 3/50\n",
            "795/795 [==============================] - 24s 31ms/step - loss: 0.4660 - accuracy: 0.8229 - val_loss: 0.4603 - val_accuracy: 0.8243\n",
            "\n",
            "Epoch 00003: val_loss improved from 0.46363 to 0.46033, saving model to /content/drive/MyDrive/AI project/models/binary_classification5/bc_model1\n",
            "INFO:tensorflow:Assets written to: /content/drive/MyDrive/AI project/models/binary_classification5/bc_model1/assets\n",
            "Epoch 4/50\n",
            "795/795 [==============================] - 24s 31ms/step - loss: 0.4605 - accuracy: 0.8234 - val_loss: 0.4546 - val_accuracy: 0.8247\n",
            "\n",
            "Epoch 00004: val_loss improved from 0.46033 to 0.45464, saving model to /content/drive/MyDrive/AI project/models/binary_classification5/bc_model1\n",
            "INFO:tensorflow:Assets written to: /content/drive/MyDrive/AI project/models/binary_classification5/bc_model1/assets\n",
            "Epoch 5/50\n",
            "795/795 [==============================] - 25s 31ms/step - loss: 0.4558 - accuracy: 0.8238 - val_loss: 0.4271 - val_accuracy: 0.8245\n",
            "\n",
            "Epoch 00005: val_loss improved from 0.45464 to 0.42707, saving model to /content/drive/MyDrive/AI project/models/binary_classification5/bc_model1\n",
            "INFO:tensorflow:Assets written to: /content/drive/MyDrive/AI project/models/binary_classification5/bc_model1/assets\n",
            "Epoch 6/50\n",
            "795/795 [==============================] - 25s 31ms/step - loss: 0.4312 - accuracy: 0.8271 - val_loss: 0.4113 - val_accuracy: 0.8245\n",
            "\n",
            "Epoch 00006: val_loss improved from 0.42707 to 0.41129, saving model to /content/drive/MyDrive/AI project/models/binary_classification5/bc_model1\n",
            "INFO:tensorflow:Assets written to: /content/drive/MyDrive/AI project/models/binary_classification5/bc_model1/assets\n",
            "Epoch 7/50\n",
            "795/795 [==============================] - 24s 31ms/step - loss: 0.4242 - accuracy: 0.8215 - val_loss: 0.4016 - val_accuracy: 0.8243\n",
            "\n",
            "Epoch 00007: val_loss improved from 0.41129 to 0.40161, saving model to /content/drive/MyDrive/AI project/models/binary_classification5/bc_model1\n",
            "INFO:tensorflow:Assets written to: /content/drive/MyDrive/AI project/models/binary_classification5/bc_model1/assets\n",
            "Epoch 8/50\n",
            "795/795 [==============================] - 24s 31ms/step - loss: 0.4132 - accuracy: 0.8238 - val_loss: 0.4025 - val_accuracy: 0.8202\n",
            "\n",
            "Epoch 00008: val_loss did not improve from 0.40161\n",
            "Epoch 9/50\n",
            "795/795 [==============================] - 24s 31ms/step - loss: 0.3970 - accuracy: 0.8289 - val_loss: 0.3923 - val_accuracy: 0.8338\n",
            "\n",
            "Epoch 00009: val_loss improved from 0.40161 to 0.39229, saving model to /content/drive/MyDrive/AI project/models/binary_classification5/bc_model1\n",
            "INFO:tensorflow:Assets written to: /content/drive/MyDrive/AI project/models/binary_classification5/bc_model1/assets\n",
            "Epoch 10/50\n",
            "795/795 [==============================] - 24s 31ms/step - loss: 0.3909 - accuracy: 0.8289 - val_loss: 0.3870 - val_accuracy: 0.8327\n",
            "\n",
            "Epoch 00010: val_loss improved from 0.39229 to 0.38697, saving model to /content/drive/MyDrive/AI project/models/binary_classification5/bc_model1\n",
            "INFO:tensorflow:Assets written to: /content/drive/MyDrive/AI project/models/binary_classification5/bc_model1/assets\n",
            "Epoch 11/50\n",
            "795/795 [==============================] - 24s 31ms/step - loss: 0.3861 - accuracy: 0.8266 - val_loss: 0.3807 - val_accuracy: 0.8333\n",
            "\n",
            "Epoch 00011: val_loss improved from 0.38697 to 0.38074, saving model to /content/drive/MyDrive/AI project/models/binary_classification5/bc_model1\n",
            "INFO:tensorflow:Assets written to: /content/drive/MyDrive/AI project/models/binary_classification5/bc_model1/assets\n",
            "Epoch 12/50\n",
            "795/795 [==============================] - 24s 31ms/step - loss: 0.3765 - accuracy: 0.8373 - val_loss: 0.3845 - val_accuracy: 0.8365\n",
            "\n",
            "Epoch 00012: val_loss did not improve from 0.38074\n",
            "Epoch 13/50\n",
            "795/795 [==============================] - 24s 31ms/step - loss: 0.3623 - accuracy: 0.8441 - val_loss: 0.3692 - val_accuracy: 0.8404\n",
            "\n",
            "Epoch 00013: val_loss improved from 0.38074 to 0.36919, saving model to /content/drive/MyDrive/AI project/models/binary_classification5/bc_model1\n",
            "INFO:tensorflow:Assets written to: /content/drive/MyDrive/AI project/models/binary_classification5/bc_model1/assets\n",
            "Epoch 14/50\n",
            "795/795 [==============================] - 25s 31ms/step - loss: 0.3765 - accuracy: 0.8326 - val_loss: 0.3667 - val_accuracy: 0.8363\n",
            "\n",
            "Epoch 00014: val_loss improved from 0.36919 to 0.36671, saving model to /content/drive/MyDrive/AI project/models/binary_classification5/bc_model1\n",
            "INFO:tensorflow:Assets written to: /content/drive/MyDrive/AI project/models/binary_classification5/bc_model1/assets\n",
            "Epoch 15/50\n",
            "795/795 [==============================] - 25s 31ms/step - loss: 0.3641 - accuracy: 0.8402 - val_loss: 0.3694 - val_accuracy: 0.8401\n",
            "\n",
            "Epoch 00015: val_loss did not improve from 0.36671\n",
            "Epoch 16/50\n",
            "795/795 [==============================] - 24s 31ms/step - loss: 0.3592 - accuracy: 0.8418 - val_loss: 0.3688 - val_accuracy: 0.8403\n",
            "\n",
            "Epoch 00016: val_loss did not improve from 0.36671\n",
            "Epoch 17/50\n",
            "795/795 [==============================] - 25s 31ms/step - loss: 0.3656 - accuracy: 0.8398 - val_loss: 0.3622 - val_accuracy: 0.8447\n",
            "\n",
            "Epoch 00017: val_loss improved from 0.36671 to 0.36222, saving model to /content/drive/MyDrive/AI project/models/binary_classification5/bc_model1\n",
            "INFO:tensorflow:Assets written to: /content/drive/MyDrive/AI project/models/binary_classification5/bc_model1/assets\n",
            "Epoch 18/50\n",
            "795/795 [==============================] - 25s 31ms/step - loss: 0.3601 - accuracy: 0.8408 - val_loss: 0.3655 - val_accuracy: 0.8403\n",
            "\n",
            "Epoch 00018: val_loss did not improve from 0.36222\n",
            "Epoch 19/50\n",
            "795/795 [==============================] - 24s 31ms/step - loss: 0.3570 - accuracy: 0.8429 - val_loss: 0.3601 - val_accuracy: 0.8409\n",
            "\n",
            "Epoch 00019: val_loss improved from 0.36222 to 0.36012, saving model to /content/drive/MyDrive/AI project/models/binary_classification5/bc_model1\n",
            "INFO:tensorflow:Assets written to: /content/drive/MyDrive/AI project/models/binary_classification5/bc_model1/assets\n",
            "Epoch 20/50\n",
            "795/795 [==============================] - 25s 31ms/step - loss: 0.3477 - accuracy: 0.8454 - val_loss: 0.3901 - val_accuracy: 0.8090\n",
            "\n",
            "Epoch 00020: val_loss did not improve from 0.36012\n",
            "Epoch 21/50\n",
            "795/795 [==============================] - 24s 31ms/step - loss: 0.3406 - accuracy: 0.8484 - val_loss: 0.3609 - val_accuracy: 0.8370\n",
            "\n",
            "Epoch 00021: val_loss did not improve from 0.36012\n",
            "Epoch 22/50\n",
            "795/795 [==============================] - 25s 31ms/step - loss: 0.3455 - accuracy: 0.8478 - val_loss: 0.3520 - val_accuracy: 0.8515\n",
            "\n",
            "Epoch 00022: val_loss improved from 0.36012 to 0.35201, saving model to /content/drive/MyDrive/AI project/models/binary_classification5/bc_model1\n",
            "INFO:tensorflow:Assets written to: /content/drive/MyDrive/AI project/models/binary_classification5/bc_model1/assets\n",
            "Epoch 23/50\n",
            "795/795 [==============================] - 25s 31ms/step - loss: 0.3372 - accuracy: 0.8531 - val_loss: 0.3495 - val_accuracy: 0.8471\n",
            "\n",
            "Epoch 00023: val_loss improved from 0.35201 to 0.34955, saving model to /content/drive/MyDrive/AI project/models/binary_classification5/bc_model1\n",
            "INFO:tensorflow:Assets written to: /content/drive/MyDrive/AI project/models/binary_classification5/bc_model1/assets\n",
            "Epoch 24/50\n",
            "795/795 [==============================] - 25s 31ms/step - loss: 0.3423 - accuracy: 0.8497 - val_loss: 0.3473 - val_accuracy: 0.8439\n",
            "\n",
            "Epoch 00024: val_loss improved from 0.34955 to 0.34730, saving model to /content/drive/MyDrive/AI project/models/binary_classification5/bc_model1\n",
            "INFO:tensorflow:Assets written to: /content/drive/MyDrive/AI project/models/binary_classification5/bc_model1/assets\n",
            "Epoch 25/50\n",
            "795/795 [==============================] - 25s 31ms/step - loss: 0.3354 - accuracy: 0.8529 - val_loss: 0.3500 - val_accuracy: 0.8491\n",
            "\n",
            "Epoch 00025: val_loss did not improve from 0.34730\n",
            "Epoch 26/50\n",
            "795/795 [==============================] - 25s 31ms/step - loss: 0.3328 - accuracy: 0.8550 - val_loss: 0.3494 - val_accuracy: 0.8458\n",
            "\n",
            "Epoch 00026: val_loss did not improve from 0.34730\n",
            "Epoch 27/50\n",
            "795/795 [==============================] - 24s 31ms/step - loss: 0.3318 - accuracy: 0.8524 - val_loss: 0.3555 - val_accuracy: 0.8521\n",
            "\n",
            "Epoch 00027: val_loss did not improve from 0.34730\n",
            "Epoch 28/50\n",
            "795/795 [==============================] - 25s 31ms/step - loss: 0.3231 - accuracy: 0.8586 - val_loss: 0.3423 - val_accuracy: 0.8542\n",
            "\n",
            "Epoch 00028: val_loss improved from 0.34730 to 0.34226, saving model to /content/drive/MyDrive/AI project/models/binary_classification5/bc_model1\n",
            "INFO:tensorflow:Assets written to: /content/drive/MyDrive/AI project/models/binary_classification5/bc_model1/assets\n",
            "Epoch 29/50\n",
            "795/795 [==============================] - 25s 31ms/step - loss: 0.3230 - accuracy: 0.8575 - val_loss: 0.3430 - val_accuracy: 0.8475\n",
            "\n",
            "Epoch 00029: val_loss did not improve from 0.34226\n",
            "Epoch 30/50\n",
            "795/795 [==============================] - 25s 31ms/step - loss: 0.3260 - accuracy: 0.8564 - val_loss: 0.3414 - val_accuracy: 0.8504\n",
            "\n",
            "Epoch 00030: val_loss improved from 0.34226 to 0.34139, saving model to /content/drive/MyDrive/AI project/models/binary_classification5/bc_model1\n",
            "INFO:tensorflow:Assets written to: /content/drive/MyDrive/AI project/models/binary_classification5/bc_model1/assets\n",
            "Epoch 31/50\n",
            "795/795 [==============================] - 25s 31ms/step - loss: 0.3216 - accuracy: 0.8601 - val_loss: 0.3410 - val_accuracy: 0.8472\n",
            "\n",
            "Epoch 00031: val_loss improved from 0.34139 to 0.34099, saving model to /content/drive/MyDrive/AI project/models/binary_classification5/bc_model1\n",
            "INFO:tensorflow:Assets written to: /content/drive/MyDrive/AI project/models/binary_classification5/bc_model1/assets\n",
            "Epoch 32/50\n",
            "795/795 [==============================] - 25s 31ms/step - loss: 0.3116 - accuracy: 0.8619 - val_loss: 0.3388 - val_accuracy: 0.8537\n",
            "\n",
            "Epoch 00032: val_loss improved from 0.34099 to 0.33875, saving model to /content/drive/MyDrive/AI project/models/binary_classification5/bc_model1\n",
            "INFO:tensorflow:Assets written to: /content/drive/MyDrive/AI project/models/binary_classification5/bc_model1/assets\n",
            "Epoch 33/50\n",
            "795/795 [==============================] - 25s 31ms/step - loss: 0.3128 - accuracy: 0.8595 - val_loss: 0.3350 - val_accuracy: 0.8564\n",
            "\n",
            "Epoch 00033: val_loss improved from 0.33875 to 0.33499, saving model to /content/drive/MyDrive/AI project/models/binary_classification5/bc_model1\n",
            "INFO:tensorflow:Assets written to: /content/drive/MyDrive/AI project/models/binary_classification5/bc_model1/assets\n",
            "Epoch 34/50\n",
            "795/795 [==============================] - 25s 31ms/step - loss: 0.3256 - accuracy: 0.8560 - val_loss: 0.3344 - val_accuracy: 0.8551\n",
            "\n",
            "Epoch 00034: val_loss improved from 0.33499 to 0.33441, saving model to /content/drive/MyDrive/AI project/models/binary_classification5/bc_model1\n",
            "INFO:tensorflow:Assets written to: /content/drive/MyDrive/AI project/models/binary_classification5/bc_model1/assets\n",
            "Epoch 35/50\n",
            "795/795 [==============================] - 25s 31ms/step - loss: 0.3141 - accuracy: 0.8631 - val_loss: 0.3395 - val_accuracy: 0.8490\n",
            "\n",
            "Epoch 00035: val_loss did not improve from 0.33441\n",
            "Epoch 36/50\n",
            "795/795 [==============================] - 25s 31ms/step - loss: 0.3103 - accuracy: 0.8630 - val_loss: 0.3371 - val_accuracy: 0.8529\n",
            "\n",
            "Epoch 00036: val_loss did not improve from 0.33441\n",
            "Epoch 37/50\n",
            "795/795 [==============================] - 25s 31ms/step - loss: 0.3074 - accuracy: 0.8638 - val_loss: 0.3333 - val_accuracy: 0.8539\n",
            "\n",
            "Epoch 00037: val_loss improved from 0.33441 to 0.33329, saving model to /content/drive/MyDrive/AI project/models/binary_classification5/bc_model1\n",
            "INFO:tensorflow:Assets written to: /content/drive/MyDrive/AI project/models/binary_classification5/bc_model1/assets\n",
            "Epoch 38/50\n",
            "795/795 [==============================] - 25s 31ms/step - loss: 0.3109 - accuracy: 0.8650 - val_loss: 0.3474 - val_accuracy: 0.8463\n",
            "\n",
            "Epoch 00038: val_loss did not improve from 0.33329\n",
            "Epoch 39/50\n",
            "795/795 [==============================] - 25s 32ms/step - loss: 0.2999 - accuracy: 0.8669 - val_loss: 0.3402 - val_accuracy: 0.8513\n",
            "\n",
            "Epoch 00039: val_loss did not improve from 0.33329\n",
            "Epoch 40/50\n",
            "795/795 [==============================] - 25s 32ms/step - loss: 0.3024 - accuracy: 0.8678 - val_loss: 0.3530 - val_accuracy: 0.8385\n",
            "\n",
            "Epoch 00040: val_loss did not improve from 0.33329\n",
            "Epoch 41/50\n",
            "795/795 [==============================] - 25s 32ms/step - loss: 0.2987 - accuracy: 0.8674 - val_loss: 0.3340 - val_accuracy: 0.8545\n",
            "\n",
            "Epoch 00041: val_loss did not improve from 0.33329\n",
            "Epoch 42/50\n",
            "795/795 [==============================] - 24s 31ms/step - loss: 0.2973 - accuracy: 0.8697 - val_loss: 0.3266 - val_accuracy: 0.8602\n",
            "\n",
            "Epoch 00042: val_loss improved from 0.33329 to 0.32659, saving model to /content/drive/MyDrive/AI project/models/binary_classification5/bc_model1\n",
            "INFO:tensorflow:Assets written to: /content/drive/MyDrive/AI project/models/binary_classification5/bc_model1/assets\n",
            "Epoch 43/50\n",
            "795/795 [==============================] - 26s 32ms/step - loss: 0.2977 - accuracy: 0.8716 - val_loss: 0.3287 - val_accuracy: 0.8564\n",
            "\n",
            "Epoch 00043: val_loss did not improve from 0.32659\n",
            "Epoch 44/50\n",
            "795/795 [==============================] - 25s 31ms/step - loss: 0.3002 - accuracy: 0.8684 - val_loss: 0.3344 - val_accuracy: 0.8545\n",
            "\n",
            "Epoch 00044: val_loss did not improve from 0.32659\n",
            "Epoch 45/50\n",
            "795/795 [==============================] - 25s 31ms/step - loss: 0.2928 - accuracy: 0.8736 - val_loss: 0.3284 - val_accuracy: 0.8559\n",
            "\n",
            "Epoch 00045: val_loss did not improve from 0.32659\n",
            "Epoch 46/50\n",
            "795/795 [==============================] - 25s 31ms/step - loss: 0.2936 - accuracy: 0.8697 - val_loss: 0.3358 - val_accuracy: 0.8485\n",
            "\n",
            "Epoch 00046: val_loss did not improve from 0.32659\n",
            "Epoch 47/50\n",
            "795/795 [==============================] - 25s 31ms/step - loss: 0.2904 - accuracy: 0.8716 - val_loss: 0.3304 - val_accuracy: 0.8553\n",
            "\n",
            "Epoch 00047: val_loss did not improve from 0.32659\n",
            "Epoch 48/50\n",
            "795/795 [==============================] - 25s 31ms/step - loss: 0.2895 - accuracy: 0.8741 - val_loss: 0.3296 - val_accuracy: 0.8516\n",
            "\n",
            "Epoch 00048: val_loss did not improve from 0.32659\n",
            "Epoch 49/50\n",
            "795/795 [==============================] - 25s 31ms/step - loss: 0.2840 - accuracy: 0.8771 - val_loss: 0.3297 - val_accuracy: 0.8529\n",
            "\n",
            "Epoch 00049: val_loss did not improve from 0.32659\n",
            "Epoch 50/50\n",
            "795/795 [==============================] - 25s 31ms/step - loss: 0.2836 - accuracy: 0.8764 - val_loss: 0.3343 - val_accuracy: 0.8483\n",
            "\n",
            "Epoch 00050: val_loss did not improve from 0.32659\n"
          ],
          "name": "stdout"
        }
      ]
    },
    {
      "cell_type": "code",
      "metadata": {
        "id": "QwD0TsF-vU4A",
        "colab": {
          "base_uri": "https://localhost:8080/",
          "height": 333
        },
        "outputId": "01bb5b4f-4175-48a5-fdb2-76ead5828ba2"
      },
      "source": [
        "model_training_viz(model_history)\n",
        "plt.savefig(save_path + model_name + '_bc2')"
      ],
      "execution_count": 23,
      "outputs": [
        {
          "output_type": "display_data",
          "data": {
            "image/png": "[encoded data removed]",
            "text/plain": [
              "<Figure size 1200x600 with 2 Axes>"
            ]
          },
          "metadata": {
            "tags": [],
            "needs_background": "light"
          }
        }
      ]
    },
    {
      "cell_type": "code",
      "metadata": {
        "id": "C-_iokm3TjwN",
        "colab": {
          "base_uri": "https://localhost:8080/"
        },
        "outputId": "53e2ea1e-aa92-4752-91f3-f724e7126401"
      },
      "source": [
        "sum(y_test)"
      ],
      "execution_count": 24,
      "outputs": [
        {
          "output_type": "execute_result",
          "data": {
            "text/plain": [
              "620"
            ]
          },
          "metadata": {
            "tags": []
          },
          "execution_count": 24
        }
      ]
    },
    {
      "cell_type": "code",
      "metadata": {
        "id": "4J9n7itsWkqU",
        "colab": {
          "base_uri": "https://localhost:8080/"
        },
        "outputId": "bde61a52-1e12-4f5b-ef9e-ff32d9263a99"
      },
      "source": [
        "len(y_test)"
      ],
      "execution_count": 25,
      "outputs": [
        {
          "output_type": "execute_result",
          "data": {
            "text/plain": [
              "3534"
            ]
          },
          "metadata": {
            "tags": []
          },
          "execution_count": 25
        }
      ]
    },
    {
      "cell_type": "code",
      "metadata": {
        "id": "yeQIuYi5vZwB",
        "colab": {
          "base_uri": "https://localhost:8080/",
          "height": 729
        },
        "outputId": "a60c695c-a52a-47df-8fa7-1919adbde819"
      },
      "source": [
        "sns.set_style({'font.family':'serif', 'font.serif':'Times New Roman'})\n",
        "\n",
        "# Transform test data\n",
        "X_test_scaled = X_test/255\n",
        "data_test = X_test_scaled.reshape(len(X_test), 48, 48)\n",
        "X_test_RGB = np.repeat(data_test[..., np.newaxis], 3, -1)\n",
        "\n",
        "evaluate_model(X_test_RGB, y_test, model, only_two_emotions=True)\n",
        "plt.savefig(save_path + model_name + '_conf_matrix')"
      ],
      "execution_count": 24,
      "outputs": [
        {
          "output_type": "stream",
          "text": [
            "[0, 1, 0, 0, 0, 0, 0, 1, 0, 0, 0, 0, 0, 1, 0, 1, 0, 0, 0, 0, 0, 0, 0, 1, 0, 0, 0, 0, 0, 0, 0, 0, 0, 0, 0, 1, 0, 0, 0, 1, 0, 0, 0, 0, 1, 0, 0, 0, 0, 0, 1, 0, 0, 0, 0, 0, 0, 0, 0, 0, 0, 0, 0, 0, 0, 0, 0, 1, 0, 0, 0, 0, 0, 0, 0, 0, 0, 0, 0, 0, 0, 0, 0, 0, 1, 0, 0, 0, 0, 0, 0, 0, 0, 0, 0, 0, 0, 0, 0, 0, 0, 0, 0, 0, 0, 0, 0, 0, 0, 1, 0, 0, 0, 0, 0, 1, 0, 1, 0, 0, 0, 0, 0, 1, 1, 1, 0, 0, 0, 0, 0, 0, 0, 0, 0, 0, 0, 0, 0, 0, 0, 0, 0, 0, 0, 0, 1, 0, 0, 0, 0, 0, 1, 0, 0, 0, 0, 0, 0, 1, 0, 0, 0, 1, 0, 0, 1, 0, 1, 1, 0, 0, 0, 1, 0, 0, 1, 0, 0, 0, 0, 0, 0, 0, 0, 0, 0, 0, 0, 1, 1, 0, 0, 0, 0, 0, 0, 0, 0, 0, 1, 0, 0, 0, 0, 0, 0, 0, 0, 0, 0, 1, 0, 0, 0, 0, 0, 0, 0, 0, 0, 0, 0, 0, 0, 0, 0, 0, 0, 0, 1, 0, 0, 0, 0, 0, 1, 0, 1, 1, 0, 0, 1, 0, 0, 0, 0, 0, 0, 0, 0, 0, 0, 0, 1, 0, 0, 0, 0, 0, 1, 0, 0, 0, 0, 0, 1, 0, 0, 0, 0, 1, 0, 0, 0, 0, 0, 1, 0, 0, 1, 0, 0, 0, 0, 0, 0, 0, 0, 0, 0, 0, 0, 0, 1, 0, 1, 0, 0, 0, 0, 0, 0, 0, 0, 1, 0, 0, 1, 0, 0, 0, 0, 0, 0, 0, 0, 0, 0, 0, 0, 0, 1, 0, 0, 0, 0, 0, 1, 0, 0, 0, 0, 0, 0, 0, 1, 0, 0, 0, 0, 0, 1, 0, 1, 1, 0, 0, 0, 1, 0, 0, 0, 0, 0, 1, 0, 0, 0, 0, 1, 0, 0, 0, 0, 1, 0, 1, 0, 0, 0, 0, 0, 0, 0, 0, 0, 0, 0, 0, 0, 0, 1, 0, 0, 0, 0, 0, 0, 1, 0, 0, 0, 0, 0, 0, 1, 0, 0, 0, 0, 0, 0, 0, 0, 1, 0, 0, 0, 0, 1, 1, 1, 1, 0, 0, 0, 0, 0, 0, 0, 0, 0, 1, 0, 0, 0, 0, 0, 0, 0, 0, 0, 0, 0, 0, 0, 0, 0, 0, 0, 0, 0, 0, 1, 0, 0, 0, 0, 0, 0, 1, 0, 0, 0, 0, 0, 0, 0, 0, 0, 0, 1, 1, 0, 0, 0, 0, 0, 0, 0, 0, 0, 0, 0, 0, 0, 0, 1, 0, 1, 0, 1, 0, 0, 0, 0, 0, 0, 0, 1, 0, 0, 0, 0, 0, 0, 0, 0, 0, 0, 0, 0, 0, 0, 0, 0, 0, 1, 0, 1, 0, 0, 0, 0, 0, 0, 0, 0, 0, 0, 0, 0, 0, 1, 0, 0, 0, 0, 1, 0, 0, 0, 0, 1, 0, 0, 0, 0, 0, 0, 0, 0, 0, 0, 0, 0, 0, 0, 0, 1, 0, 0, 0, 0, 0, 0, 0, 0, 0, 0, 0, 0, 0, 0, 0, 0, 0, 0, 0, 0, 1, 0, 0, 0, 1, 0, 0, 0, 0, 0, 1, 0, 0, 0, 0, 0, 0, 0, 0, 0, 0, 0, 0, 0, 1, 0, 0, 0, 0, 0, 0, 1, 1, 0, 0, 0, 0, 0, 0, 0, 0, 0, 1, 0, 0, 0, 0, 0, 1, 0, 0, 0, 0, 0, 0, 0, 0, 0, 0, 0, 0, 0, 0, 0, 1, 0, 0, 0, 0, 0, 0, 1, 0, 0, 0, 0, 0, 0, 0, 0, 0, 0, 0, 0, 0, 0, 0, 0, 0, 0, 0, 1, 0, 0, 0, 0, 0, 0, 1, 0, 0, 0, 0, 0, 0, 0, 0, 0, 0, 0, 0, 0, 0, 0, 0, 0, 0, 0, 0, 0, 0, 0, 0, 0, 0, 0, 0, 0, 0, 0, 0, 0, 0, 1, 0, 0, 0, 0, 0, 0, 0, 0, 0, 0, 0, 0, 0, 0, 0, 0, 0, 1, 0, 1, 1, 1, 0, 0, 1, 0, 0, 0, 0, 1, 0, 0, 0, 0, 0, 0, 0, 0, 0, 0, 0, 0, 0, 0, 1, 0, 1, 0, 0, 0, 0, 0, 0, 0, 0, 0, 0, 0, 0, 0, 0, 0, 0, 0, 0, 0, 0, 1, 0, 0, 0, 0, 0, 0, 0, 0, 0, 0, 1, 0, 0, 0, 0, 0, 0, 0, 1, 0, 0, 0, 0, 1, 0, 0, 0, 1, 0, 0, 0, 0, 0, 0, 0, 0, 0, 0, 0, 0, 0, 0, 0, 0, 0, 0, 0, 0, 0, 0, 1, 0, 0, 0, 0, 0, 0, 0, 0, 0, 0, 0, 0, 0, 1, 0, 0, 1, 0, 0, 0, 1, 0, 0, 0, 0, 0, 1, 0, 0, 0, 0, 0, 1, 0, 0, 0, 0, 0, 0, 0, 0, 0, 0, 0, 0, 0, 0, 0, 0, 0, 0, 0, 0, 0, 0, 0, 0, 0, 0, 0, 0, 0, 0, 0, 0, 0, 1, 0, 0, 0, 1, 1, 1, 0, 0, 0, 0, 0, 0, 1, 1, 0, 0, 0, 0, 0, 0, 0, 0, 0, 1, 0, 0, 1, 1, 0, 0, 0, 0, 1, 1, 0, 1, 1, 0, 0, 0, 0, 0, 0, 0, 0, 0, 0, 0, 1, 0, 0, 1, 1, 1, 1, 0, 0, 0, 0, 0, 1, 0, 1, 0, 0, 0, 0, 0, 0, 0, 0, 0, 0, 1, 0, 0, 0, 0, 1, 0, 0, 1, 0, 1, 0, 0, 0, 0, 0, 0, 0, 0, 0, 1, 0, 0, 0, 0, 0, 0, 0, 1, 0, 0, 0, 0, 0, 0, 0, 0, 0, 0, 0, 1, 0, 0, 0, 0, 0, 0, 0, 0, 0, 1, 0, 0, 0, 0, 0, 0, 0, 0, 0, 0, 0, 0, 0, 0, 0, 0, 0, 0, 0, 0, 1, 0, 0, 0, 0, 1, 0, 0, 0, 0, 0, 0, 0, 0, 0, 0, 0, 0, 0, 0, 0, 0, 0, 0, 0, 0, 0, 1, 0, 0, 0, 0, 1, 0, 0, 0, 1, 0, 0, 0, 0, 0, 0, 0, 0, 0, 0, 0, 0, 0, 0, 1, 0, 0, 0, 0, 0, 0, 0, 0, 0, 0, 0, 0, 0, 0, 1, 0, 0, 0, 0, 0, 0, 0, 0, 1, 0, 1, 0, 0, 0, 0, 0, 0, 0, 0, 0, 0, 0, 0, 0, 0, 1, 0, 0, 0, 0, 0, 1, 0, 0, 0, 0, 0, 0, 0, 1, 0, 0, 0, 1, 0, 0, 0, 0, 0, 0, 0, 0, 0, 0, 0, 0, 1, 0, 0, 0, 0, 0, 0, 1, 0, 0, 0, 0, 0, 1, 0, 0, 0, 1, 0, 0, 0, 0, 0, 0, 1, 0, 0, 0, 0, 0, 0, 0, 0, 1, 0, 0, 0, 0, 0, 0, 0, 0, 0, 0, 1, 0, 0, 0, 0, 1, 0, 0, 0, 0, 0, 0, 0, 0, 0, 0, 0, 0, 0, 0, 0, 0, 0, 0, 0, 0, 0, 0, 0, 0, 0, 0, 0, 0, 0, 0, 0, 0, 1, 0, 0, 0, 0, 0, 0, 0, 1, 0, 1, 0, 1, 0, 1, 0, 0, 0, 0, 0, 0, 0, 0, 0, 0, 0, 0, 0, 0, 0, 0, 0, 0, 0, 0, 1, 0, 1, 0, 0, 0, 0, 1, 0, 0, 0, 0, 0, 0, 0, 0, 1, 0, 0, 0, 0, 0, 0, 0, 1, 0, 0, 0, 0, 0, 1, 0, 0, 0, 0, 0, 0, 0, 1, 1, 0, 0, 0, 0, 0, 0, 0, 0, 0, 1, 0, 0, 0, 1, 0, 0, 0, 0, 0, 1, 0, 0, 0, 0, 0, 0, 1, 0, 0, 0, 0, 1, 0, 0, 0, 0, 0, 0, 0, 0, 0, 0, 0, 0, 0, 0, 0, 0, 0, 0, 0, 1, 0, 0, 0, 1, 0, 1, 0, 0, 0, 0, 0, 0, 0, 0, 0, 0, 0, 0, 0, 0, 0, 0, 0, 0, 0, 0, 0, 0, 0, 1, 0, 0, 0, 0, 0, 0, 1, 0, 0, 0, 0, 0, 0, 0, 0, 0, 0, 0, 1, 0, 0, 0, 0, 0, 0, 1, 0, 0, 0, 0, 0, 0, 0, 0, 0, 0, 0, 0, 0, 0, 0, 0, 0, 1, 0, 0, 0, 0, 0, 0, 0, 0, 0, 1, 0, 0, 0, 0, 0, 1, 0, 0, 0, 0, 1, 0, 0, 0, 0, 0, 0, 0, 0, 0, 0, 0, 0, 0, 0, 0, 0, 1, 0, 0, 0, 0, 0, 0, 0, 0, 0, 0, 0, 0, 1, 0, 1, 0, 0, 0, 1, 0, 0, 0, 0, 0, 0, 0, 0, 0, 0, 0, 0, 0, 0, 0, 0, 1, 1, 0, 0, 0, 0, 0, 1, 0, 0, 0, 0, 1, 0, 0, 0, 0, 0, 0, 0, 0, 0, 0, 0, 0, 0, 0, 0, 0, 0, 0, 0, 0, 0, 0, 0, 0, 0, 0, 0, 1, 0, 0, 0, 1, 0, 0, 1, 0, 0, 0, 0, 0, 0, 1, 0, 0, 0, 0, 1, 0, 0, 1, 0, 0, 0, 1, 1, 0, 0, 0, 0, 0, 0, 0, 0, 0, 0, 0, 0, 0, 0, 0, 0, 0, 0, 0, 0, 0, 0, 0, 0, 0, 0, 0, 0, 0, 0, 0, 0, 0, 0, 0, 0, 0, 0, 0, 1, 0, 0, 0, 0, 0, 0, 0, 0, 0, 0, 0, 1, 1, 0, 0, 1, 0, 0, 1, 0, 0, 0, 0, 0, 0, 0, 0, 0, 1, 0, 0, 1, 0, 0, 1, 0, 0, 0, 0, 0, 0, 0, 0, 0, 0, 0, 0, 0, 0, 0, 0, 1, 1, 0, 0, 0, 1, 0, 0, 0, 0, 0, 0, 0, 0, 0, 0, 0, 1, 0, 0, 0, 0, 0, 0, 0, 0, 0, 0, 1, 0, 0, 0, 1, 0, 0, 0, 0, 1, 0, 1, 0, 0, 0, 0, 0, 0, 0, 1, 0, 0, 0, 0, 0, 0, 0, 0, 0, 0, 0, 0, 0, 0, 0, 0, 0, 0, 0, 1, 0, 0, 0, 0, 0, 0, 0, 0, 0, 0, 0, 0, 0, 0, 0, 0, 0, 0, 0, 0, 0, 0, 1, 0, 0, 0, 0, 0, 0, 0, 0, 0, 0, 0, 0, 1, 1, 0, 1, 0, 0, 0, 0, 0, 0, 0, 0, 0, 0, 0, 1, 0, 1, 1, 0, 0, 0, 0, 0, 0, 0, 0, 0, 0, 1, 0, 0, 0, 0, 0, 0, 1, 0, 0, 0, 0, 0, 0, 0, 0, 0, 0, 0, 0, 0, 0, 0, 0, 0, 0, 0, 0, 0, 0, 0, 0, 0, 0, 0, 0, 0, 1, 0, 1, 0, 0, 0, 0, 0, 0, 1, 0, 0, 0, 0, 0, 0, 0, 0, 0, 0, 0, 0, 0, 1, 0, 0, 0, 0, 0, 0, 0, 0, 0, 0, 0, 0, 0, 0, 0, 0, 0, 0, 0, 0, 0, 1, 0, 0, 0, 0, 0, 1, 0, 0, 0, 0, 0, 0, 1, 0, 0, 0, 0, 0, 0, 0, 0, 0, 0, 0, 1, 0, 0, 0, 0, 0, 0, 1, 0, 0, 0, 0, 0, 1, 0, 0, 0, 1, 0, 0, 0, 0, 1, 0, 0, 0, 0, 0, 0, 0, 0, 0, 0, 0, 0, 0, 0, 0, 0, 0, 0, 0, 0, 0, 0, 0, 0, 0, 0, 0, 1, 0, 0, 0, 0, 0, 1, 0, 0, 0, 0, 0, 0, 0, 0, 0, 0, 0, 0, 0, 0, 0, 0, 0, 0, 0, 0, 0, 0, 0, 0, 0, 0, 0, 0, 0, 0, 0, 0, 1, 0, 0, 0, 0, 0, 0, 0, 0, 0, 0, 1, 0, 0, 0, 0, 0, 0, 0, 0, 0, 0, 0, 0, 0, 0, 0, 1, 1, 0, 0, 1, 0, 0, 0, 0, 0, 0, 0, 0, 1, 0, 0, 0, 0, 0, 0, 0, 0, 0, 0, 0, 1, 0, 0, 1, 0, 0, 0, 0, 0, 0, 0, 0, 0, 0, 0, 0, 0, 0, 0, 0, 0, 0, 0, 0, 0, 0, 0, 1, 1, 0, 0, 1, 1, 0, 0, 0, 0, 1, 0, 0, 0, 0, 0, 0, 0, 0, 0, 0, 0, 0, 0, 1, 0, 0, 0, 0, 0, 0, 0, 0, 0, 0, 0, 0, 0, 0, 0, 0, 0, 0, 0, 0, 0, 0, 0, 0, 0, 0, 1, 0, 0, 0, 0, 0, 0, 0, 0, 0, 1, 0, 0, 0, 0, 0, 0, 0, 0, 1, 0, 0, 0, 0, 0, 0, 0, 0, 0, 0, 0, 1, 1, 1, 0, 0, 0, 0, 0, 0, 0, 0, 1, 1, 0, 0, 0, 0, 0, 0, 0, 0, 0, 0, 0, 0, 1, 0, 0, 0, 0, 0, 0, 0, 0, 1, 0, 0, 0, 0, 1, 0, 1, 0, 0, 0, 1, 0, 0, 0, 1, 0, 1, 1, 0, 0, 0, 0, 0, 0, 1, 0, 0, 0, 0, 0, 0, 0, 0, 0, 0, 0, 0, 0, 0, 0, 1, 0, 1, 0, 0, 0, 0, 0, 0, 0, 0, 0, 0, 0, 0, 0, 0, 0, 0, 0, 0, 1, 0, 0, 1, 0, 0, 0, 0, 0, 1, 0, 0, 0, 0, 1, 0, 0, 0, 0, 0, 0, 0, 1, 0, 0, 0, 0, 0, 0, 0, 0, 1, 0, 0, 0, 1, 0, 0, 0, 0, 0, 0, 0, 0, 0, 0, 0, 0, 1, 1, 0, 0, 0, 0, 0, 0, 0, 0, 0, 0, 0, 0, 0, 1, 0, 0, 1, 0, 0, 0, 0, 0, 0, 0, 0, 0, 0, 0, 0, 1, 0, 0, 0, 0, 0, 0, 0, 0, 1, 0, 0, 0, 0, 0, 0, 0, 0, 1, 0, 0, 1, 0, 0, 0, 0, 0, 0, 0, 0, 0, 0, 0, 0, 0, 0, 0, 0, 0, 1, 0, 0, 0, 0, 0, 0, 0, 0, 1, 0, 0, 0, 1, 0, 0, 1, 0, 0, 0, 0, 1, 1, 0, 0, 0, 0, 0, 0, 0, 1, 0, 0, 0, 0, 0, 0, 0, 1, 0, 0, 0, 1, 1, 0, 0, 0, 0, 0, 0, 0, 1, 0, 0, 0, 0, 0, 0, 1, 1, 0, 0, 0, 0, 0, 0, 0, 0, 0, 0, 0, 0, 0, 0, 0, 0, 0, 0, 1, 0, 0, 0, 0, 0, 0, 0, 0, 0, 0, 0, 0, 1, 0, 0, 0, 1, 0, 0, 0, 0, 0, 0, 0, 0, 1, 0, 0, 0, 0, 0, 0, 0, 0, 0, 0, 0, 0, 0, 0, 0, 0, 0, 0, 0, 0, 0, 0, 0, 0, 0, 0, 0, 1, 1, 0, 0, 0, 0, 0, 0, 0, 0, 0, 0, 0, 1, 0, 0, 0, 0, 1, 0, 0, 0, 0, 0, 1, 1, 0, 0, 0, 0, 0, 0, 0, 0, 0, 1, 0, 0, 0, 1, 0, 0, 0, 1, 0, 0, 0, 0, 0, 0, 0, 0, 0, 0, 0, 0, 0, 0, 0, 1, 0, 0, 0, 0, 0, 0, 1, 1, 0, 0, 0, 0, 0, 0, 0, 0, 0, 0, 0, 0, 0, 0, 0, 0, 1, 1, 1, 1, 0, 0, 0, 1, 1, 1, 0, 0, 0, 1, 0, 0, 0, 0, 0, 0, 0, 0, 0, 0, 1, 0, 0, 0, 0, 0, 1, 0, 0, 0, 0, 1, 0, 0, 0, 0, 1, 0, 0, 0, 0, 0, 0, 0, 1, 0, 1, 0, 0, 0, 1, 1, 0, 0, 0, 0, 0, 0, 0, 1, 1, 0, 0, 1, 0, 0, 0, 0, 0, 0, 0, 0, 0, 0, 0, 0, 0, 1, 0, 0, 0, 1, 0, 0, 0, 0, 0, 0, 0, 0, 0, 0, 0, 0, 0, 0, 0, 0, 0, 0, 0, 0, 1, 0, 0, 0, 0, 0, 1, 0, 0, 1, 0, 0, 0, 0, 0, 0, 0, 0, 0, 1, 0, 0, 1, 1, 0, 0, 0, 0, 0, 0, 0, 0, 0, 1, 0, 0, 0, 0, 0, 1, 1, 1, 0, 0, 0, 0, 0, 0, 0, 0, 0, 0, 0, 0, 0, 0, 0, 0, 0, 0, 0, 0, 1, 0, 0, 0, 0, 0, 1, 1, 0, 0, 1, 0, 0, 0, 0, 1, 1, 0, 0, 0, 1, 0, 0, 1, 0, 0, 0, 0, 1, 0, 0, 0, 0, 0, 0, 0, 0, 0, 0, 0, 0, 0, 0, 0, 0, 0, 0, 0, 0, 0, 0, 0, 0, 0, 0, 0, 0, 0, 0, 1, 0, 0, 0, 0, 0, 0, 0, 0, 1, 0, 0, 0, 0, 0, 1, 0, 0, 0, 0, 0, 0, 0, 0, 0, 0, 0, 0, 0, 0, 0, 1, 0, 0, 0, 0, 0, 1, 0, 0, 0, 0, 0, 0, 0, 0, 0, 0, 0, 1, 0, 0, 0, 0, 0, 0, 0, 0, 0, 0, 0, 0, 0, 0, 0, 0, 0, 0, 0, 0, 0, 0, 0, 0, 0, 0, 0, 0, 0, 0, 0, 0, 0, 0, 0, 0, 0, 0, 0, 0, 0, 0, 0, 0, 0, 0, 0, 0, 0, 1, 0, 0, 0, 0, 0, 0, 0, 0, 1, 0, 1, 1, 0, 0, 0, 0, 0, 0, 0, 0, 0, 0, 1, 0, 0, 0, 0, 0, 1, 0, 0, 0, 0, 0, 0, 1, 0, 0, 0, 0, 0, 0, 0, 0, 0, 0, 0, 1, 0, 0, 0, 0, 0, 0, 0, 0, 0, 0, 0, 0, 1, 0, 1, 0, 0, 0, 0, 0, 0, 0, 0, 0, 0, 1, 0, 0, 0, 0, 0, 0, 0, 0, 0, 1, 1, 0, 0, 0, 0, 0, 0, 0, 0, 0, 0, 0, 0, 0, 0, 0, 0, 1, 0, 0, 0, 0, 0, 0, 0, 0, 1, 0, 0, 0, 0, 0, 0, 0, 0, 0, 1, 0, 0, 0, 0, 0, 0, 0, 0, 0, 0, 0, 0, 1, 0, 0, 0, 0, 0, 0, 0, 0, 0, 0, 0, 0, 0, 1, 0, 0, 0, 0, 0, 0, 0, 0, 0, 0, 0, 0, 0, 0, 0, 0, 0, 0, 1, 1, 1, 0, 1, 1, 0, 0, 1, 0, 1, 0, 0, 0, 1, 1, 0, 0, 0, 0, 0, 0, 0, 0, 0, 0, 0, 0, 0, 1, 0, 0, 0, 0, 0, 0, 0, 0, 0, 0, 1, 1, 0, 0, 0, 0, 0, 0, 0, 0, 0, 0, 0, 0, 0, 0, 0, 0, 0, 0, 0, 0, 0, 1, 0, 0, 0, 0, 0, 0, 0, 0, 0, 0, 0, 0, 0, 0, 0, 0, 0, 0, 0, 0, 0, 0, 0, 0, 0, 0, 0, 0, 1, 0, 0, 0, 0, 1, 0, 0, 0, 1, 0, 0, 0, 1, 0, 1, 0, 0, 0, 0, 0, 0, 0, 0, 0, 0, 0, 0, 0, 1, 0, 0, 0, 1, 0, 1, 0, 0, 0, 0, 0, 0, 0, 0, 0, 0, 0, 0, 0, 0, 0, 0, 0, 0, 0, 0, 0, 0, 0, 0, 0, 0, 0, 0, 0, 0, 0, 0, 0, 0, 0, 1, 0, 0, 0, 0, 0, 0, 0, 0, 0, 0, 0, 0, 0, 0, 0, 0, 0, 0, 0, 0, 0, 0, 1, 0, 0, 0, 0, 0, 0, 0, 0, 0, 0, 0, 1, 0, 0, 0, 0, 0, 0, 0, 0, 0, 0, 0, 0, 0, 0, 0, 0, 0, 0, 1, 1, 0, 0, 0, 0, 0, 0, 1, 0, 0, 1, 0, 0, 0, 0, 0, 0, 0, 0, 0, 0, 1, 0, 0, 0, 0, 0, 1, 0, 0, 1, 0, 0, 1, 0, 0, 0, 0, 0, 0, 0, 0, 0, 1, 0, 0, 1, 0, 0, 0, 0, 0, 0, 0, 0, 0, 0, 1, 0, 0, 0, 0, 0, 0, 0, 0, 0, 0, 0, 0, 0, 0, 0, 0, 0, 0, 0, 0, 0, 0, 1, 0, 1, 0, 0, 0, 0, 0, 0, 0, 0, 1, 0, 0, 1, 0, 1, 0, 0, 0, 0, 1, 0, 0, 0, 0, 0, 0, 0, 0, 0, 0, 0, 0, 0, 0, 0, 0, 0, 0, 0, 0, 0, 0, 0, 0, 0, 1, 0, 0, 0, 0, 0, 0, 0, 0, 0, 0, 0, 1, 0, 0, 0, 0, 0, 0, 0, 1, 0, 0, 0, 0, 0, 0, 0, 0, 0, 0, 0, 0, 0, 0, 0, 0, 0, 1, 0, 1, 0, 0, 0, 1, 0, 0, 0, 0, 0, 0, 1, 0, 0, 1, 1, 0, 0, 1, 0, 0, 0, 0, 1, 1, 0, 0, 0, 0, 0, 0, 0, 0, 0, 0, 0, 0, 0, 1, 0, 0, 0, 0, 0, 1, 0, 0, 0, 0, 0, 0, 0, 1, 0, 0, 0, 0, 1, 0, 0, 0, 0, 0, 0]\n",
            "\n",
            "\n",
            "              precision    recall  f1-score   support\n",
            "\n",
            "           0       0.89      0.94      0.92      2914\n",
            "           1       0.63      0.45      0.53       620\n",
            "\n",
            "    accuracy                           0.86      3534\n",
            "   macro avg       0.76      0.70      0.72      3534\n",
            "weighted avg       0.85      0.86      0.85      3534\n",
            "\n"
          ],
          "name": "stdout"
        },
        {
          "output_type": "display_data",
          "data": {
            "image/png": "[encoded data removed]",
            "text/plain": [
              "<Figure size 1200x800 with 2 Axes>"
            ]
          },
          "metadata": {
            "tags": [],
            "needs_background": "light"
          }
        }
      ]
    },
    {
      "cell_type": "code",
      "metadata": {
        "id": "SB03e_bIVTKU"
      },
      "source": [
        "import keras\n",
        "model = keras.models.load_model('/content/drive/MyDrive/AI project/models/binary_classification5/bc_model1')"
      ],
      "execution_count": 23,
      "outputs": []
    }
  ]
}